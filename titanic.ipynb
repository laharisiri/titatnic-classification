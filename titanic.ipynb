{
 "cells": [
  {
   "cell_type": "markdown",
   "id": "80cb8784-4b0c-475d-92c3-e7996bb3b195",
   "metadata": {},
   "source": [
    "# Importing Libraries"
   ]
  },
  {
   "cell_type": "code",
   "execution_count": 59,
   "id": "efe3c79c-9434-4ab3-95a8-6ea32dab7960",
   "metadata": {},
   "outputs": [],
   "source": [
    "import pandas as pd\n",
    "import seaborn as sns\n",
    "from sklearn.model_selection import train_test_split\n",
    "from sklearn.linear_model import LogisticRegression\n",
    "from sklearn.metrics import accuracy_score, classification_report, confusion_matrix\n"
   ]
  },
  {
   "cell_type": "markdown",
   "id": "7c71d52b-e509-42ac-bb2e-8e44429cc31d",
   "metadata": {},
   "source": [
    "# Loading the titanic dataset"
   ]
  },
  {
   "cell_type": "code",
   "execution_count": 60,
   "id": "882ede31-e693-476d-9eed-892c17456ddc",
   "metadata": {},
   "outputs": [],
   "source": [
    "titanic = pd.read_csv(\"titanicdataset.csv\")"
   ]
  },
  {
   "cell_type": "markdown",
   "id": "f9be9f8b-4241-42cf-8778-33ff371d0a5a",
   "metadata": {},
   "source": [
    "#  Display the first five rows and last five rows"
   ]
  },
  {
   "cell_type": "code",
   "execution_count": 61,
   "id": "59f33a78-b64d-419d-8ce2-ecf0f49535ea",
   "metadata": {},
   "outputs": [
    {
     "name": "stdout",
     "output_type": "stream",
     "text": [
      "   Survived  Pclass                                               Name  \\\n",
      "0         0       3                             Mr. Owen Harris Braund   \n",
      "1         1       1  Mrs. John Bradley (Florence Briggs Thayer) Cum...   \n",
      "2         1       3                              Miss. Laina Heikkinen   \n",
      "3         1       1        Mrs. Jacques Heath (Lily May Peel) Futrelle   \n",
      "4         0       3                            Mr. William Henry Allen   \n",
      "\n",
      "      Sex   Age  Siblings/Spouses Aboard  Parents/Children Aboard     Fare  \n",
      "0    male  22.0                        1                        0   7.2500  \n",
      "1  female  38.0                        1                        0  71.2833  \n",
      "2  female  26.0                        0                        0   7.9250  \n",
      "3  female  35.0                        1                        0  53.1000  \n",
      "4    male  35.0                        0                        0   8.0500  \n",
      "     Survived  Pclass                            Name     Sex   Age  \\\n",
      "882         0       2            Rev. Juozas Montvila    male  27.0   \n",
      "883         1       1     Miss. Margaret Edith Graham  female  19.0   \n",
      "884         0       3  Miss. Catherine Helen Johnston  female   7.0   \n",
      "885         1       1            Mr. Karl Howell Behr    male  26.0   \n",
      "886         0       3              Mr. Patrick Dooley    male  32.0   \n",
      "\n",
      "     Siblings/Spouses Aboard  Parents/Children Aboard   Fare  \n",
      "882                        0                        0  13.00  \n",
      "883                        0                        0  30.00  \n",
      "884                        1                        2  23.45  \n",
      "885                        0                        0  30.00  \n",
      "886                        0                        0   7.75  \n"
     ]
    }
   ],
   "source": [
    "print(titanic.head())\n",
    "print(titanic.tail())"
   ]
  },
  {
   "cell_type": "markdown",
   "id": "023c82a7-5fa7-46a3-955a-d4fc0fca043d",
   "metadata": {},
   "source": [
    "# Data preprocessing"
   ]
  },
  {
   "cell_type": "code",
   "execution_count": 62,
   "id": "37567637-51bb-48a1-a86e-e3d33fcffcb7",
   "metadata": {},
   "outputs": [
    {
     "data": {
      "text/html": [
       "<div>\n",
       "<style scoped>\n",
       "    .dataframe tbody tr th:only-of-type {\n",
       "        vertical-align: middle;\n",
       "    }\n",
       "\n",
       "    .dataframe tbody tr th {\n",
       "        vertical-align: top;\n",
       "    }\n",
       "\n",
       "    .dataframe thead th {\n",
       "        text-align: right;\n",
       "    }\n",
       "</style>\n",
       "<table border=\"1\" class=\"dataframe\">\n",
       "  <thead>\n",
       "    <tr style=\"text-align: right;\">\n",
       "      <th></th>\n",
       "      <th>Survived</th>\n",
       "      <th>Pclass</th>\n",
       "      <th>Age</th>\n",
       "      <th>Siblings/Spouses Aboard</th>\n",
       "      <th>Parents/Children Aboard</th>\n",
       "      <th>Fare</th>\n",
       "    </tr>\n",
       "  </thead>\n",
       "  <tbody>\n",
       "    <tr>\n",
       "      <th>count</th>\n",
       "      <td>887.000000</td>\n",
       "      <td>887.000000</td>\n",
       "      <td>887.000000</td>\n",
       "      <td>887.000000</td>\n",
       "      <td>887.000000</td>\n",
       "      <td>887.00000</td>\n",
       "    </tr>\n",
       "    <tr>\n",
       "      <th>mean</th>\n",
       "      <td>0.385569</td>\n",
       "      <td>2.305524</td>\n",
       "      <td>29.471443</td>\n",
       "      <td>0.525366</td>\n",
       "      <td>0.383315</td>\n",
       "      <td>32.30542</td>\n",
       "    </tr>\n",
       "    <tr>\n",
       "      <th>std</th>\n",
       "      <td>0.487004</td>\n",
       "      <td>0.836662</td>\n",
       "      <td>14.121908</td>\n",
       "      <td>1.104669</td>\n",
       "      <td>0.807466</td>\n",
       "      <td>49.78204</td>\n",
       "    </tr>\n",
       "    <tr>\n",
       "      <th>min</th>\n",
       "      <td>0.000000</td>\n",
       "      <td>1.000000</td>\n",
       "      <td>0.420000</td>\n",
       "      <td>0.000000</td>\n",
       "      <td>0.000000</td>\n",
       "      <td>0.00000</td>\n",
       "    </tr>\n",
       "    <tr>\n",
       "      <th>25%</th>\n",
       "      <td>0.000000</td>\n",
       "      <td>2.000000</td>\n",
       "      <td>20.250000</td>\n",
       "      <td>0.000000</td>\n",
       "      <td>0.000000</td>\n",
       "      <td>7.92500</td>\n",
       "    </tr>\n",
       "    <tr>\n",
       "      <th>50%</th>\n",
       "      <td>0.000000</td>\n",
       "      <td>3.000000</td>\n",
       "      <td>28.000000</td>\n",
       "      <td>0.000000</td>\n",
       "      <td>0.000000</td>\n",
       "      <td>14.45420</td>\n",
       "    </tr>\n",
       "    <tr>\n",
       "      <th>75%</th>\n",
       "      <td>1.000000</td>\n",
       "      <td>3.000000</td>\n",
       "      <td>38.000000</td>\n",
       "      <td>1.000000</td>\n",
       "      <td>0.000000</td>\n",
       "      <td>31.13750</td>\n",
       "    </tr>\n",
       "    <tr>\n",
       "      <th>max</th>\n",
       "      <td>1.000000</td>\n",
       "      <td>3.000000</td>\n",
       "      <td>80.000000</td>\n",
       "      <td>8.000000</td>\n",
       "      <td>6.000000</td>\n",
       "      <td>512.32920</td>\n",
       "    </tr>\n",
       "  </tbody>\n",
       "</table>\n",
       "</div>"
      ],
      "text/plain": [
       "         Survived      Pclass         Age  Siblings/Spouses Aboard  \\\n",
       "count  887.000000  887.000000  887.000000               887.000000   \n",
       "mean     0.385569    2.305524   29.471443                 0.525366   \n",
       "std      0.487004    0.836662   14.121908                 1.104669   \n",
       "min      0.000000    1.000000    0.420000                 0.000000   \n",
       "25%      0.000000    2.000000   20.250000                 0.000000   \n",
       "50%      0.000000    3.000000   28.000000                 0.000000   \n",
       "75%      1.000000    3.000000   38.000000                 1.000000   \n",
       "max      1.000000    3.000000   80.000000                 8.000000   \n",
       "\n",
       "       Parents/Children Aboard       Fare  \n",
       "count               887.000000  887.00000  \n",
       "mean                  0.383315   32.30542  \n",
       "std                   0.807466   49.78204  \n",
       "min                   0.000000    0.00000  \n",
       "25%                   0.000000    7.92500  \n",
       "50%                   0.000000   14.45420  \n",
       "75%                   0.000000   31.13750  \n",
       "max                   6.000000  512.32920  "
      ]
     },
     "execution_count": 62,
     "metadata": {},
     "output_type": "execute_result"
    }
   ],
   "source": [
    "titanic.describe()"
   ]
  },
  {
   "cell_type": "code",
   "execution_count": 63,
   "id": "56e3bbf1-0a0e-4974-bb7f-50f3aa22904f",
   "metadata": {},
   "outputs": [
    {
     "data": {
      "text/plain": [
       "(887, 8)"
      ]
     },
     "execution_count": 63,
     "metadata": {},
     "output_type": "execute_result"
    }
   ],
   "source": [
    "titanic.shape"
   ]
  },
  {
   "cell_type": "code",
   "execution_count": 64,
   "id": "becf6396-5a5e-4913-aa0d-fdcd3e041ffd",
   "metadata": {},
   "outputs": [
    {
     "data": {
      "text/plain": [
       "Index(['Survived', 'Pclass', 'Name', 'Sex', 'Age', 'Siblings/Spouses Aboard',\n",
       "       'Parents/Children Aboard', 'Fare'],\n",
       "      dtype='object')"
      ]
     },
     "execution_count": 64,
     "metadata": {},
     "output_type": "execute_result"
    }
   ],
   "source": [
    "titanic.columns"
   ]
  },
  {
   "cell_type": "code",
   "execution_count": 65,
   "id": "492350d2-d6c9-4c06-9a74-964e6afe5a91",
   "metadata": {},
   "outputs": [],
   "source": [
    "titanic['Age'].fillna(titanic['Age'].median(), inplace=True)\n",
    "titanic['Sex'] = titanic['Sex'].replace({'male': 0, 'female': 1})"
   ]
  },
  {
   "cell_type": "code",
   "execution_count": 66,
   "id": "49d284d9-0bad-4139-84ed-e58b94f85517",
   "metadata": {},
   "outputs": [
    {
     "name": "stdout",
     "output_type": "stream",
     "text": [
      "   Survived  Pclass                                               Name  Sex  \\\n",
      "0         0       3                             Mr. Owen Harris Braund    0   \n",
      "1         1       1  Mrs. John Bradley (Florence Briggs Thayer) Cum...    1   \n",
      "2         1       3                              Miss. Laina Heikkinen    1   \n",
      "3         1       1        Mrs. Jacques Heath (Lily May Peel) Futrelle    1   \n",
      "4         0       3                            Mr. William Henry Allen    0   \n",
      "5         0       3                                    Mr. James Moran    0   \n",
      "6         0       1                             Mr. Timothy J McCarthy    0   \n",
      "7         0       3                      Master. Gosta Leonard Palsson    0   \n",
      "8         1       3   Mrs. Oscar W (Elisabeth Vilhelmina Berg) Johnson    1   \n",
      "9         1       2                 Mrs. Nicholas (Adele Achem) Nasser    1   \n",
      "\n",
      "    Age  Siblings/Spouses Aboard  Parents/Children Aboard     Fare  \n",
      "0  22.0                        1                        0   7.2500  \n",
      "1  38.0                        1                        0  71.2833  \n",
      "2  26.0                        0                        0   7.9250  \n",
      "3  35.0                        1                        0  53.1000  \n",
      "4  35.0                        0                        0   8.0500  \n",
      "5  27.0                        0                        0   8.4583  \n",
      "6  54.0                        0                        0  51.8625  \n",
      "7   2.0                        3                        1  21.0750  \n",
      "8  27.0                        0                        2  11.1333  \n",
      "9  14.0                        1                        0  30.0708  \n",
      "     Survived  Pclass                            Name  Sex   Age  \\\n",
      "882         0       2            Rev. Juozas Montvila    0  27.0   \n",
      "883         1       1     Miss. Margaret Edith Graham    1  19.0   \n",
      "884         0       3  Miss. Catherine Helen Johnston    1   7.0   \n",
      "885         1       1            Mr. Karl Howell Behr    0  26.0   \n",
      "886         0       3              Mr. Patrick Dooley    0  32.0   \n",
      "\n",
      "     Siblings/Spouses Aboard  Parents/Children Aboard   Fare  \n",
      "882                        0                        0  13.00  \n",
      "883                        0                        0  30.00  \n",
      "884                        1                        2  23.45  \n",
      "885                        0                        0  30.00  \n",
      "886                        0                        0   7.75  \n"
     ]
    }
   ],
   "source": [
    "print(titanic.head(10))\n",
    "print(titanic.tail())"
   ]
  },
  {
   "cell_type": "markdown",
   "id": "d196fd98-7fd5-47cc-ba73-18bc5b2e795c",
   "metadata": {},
   "source": [
    "# Define the features and target variable"
   ]
  },
  {
   "cell_type": "code",
   "execution_count": 67,
   "id": "a22babf4-fef8-49ea-aa6a-ace4ce958aec",
   "metadata": {},
   "outputs": [],
   "source": [
    "features = ['Pclass', 'Age', 'Sex']\n",
    "X = titanic[features]  # Features (independent variables)\n",
    "y = titanic['Survived']  # Target variable (dependent variable)\n"
   ]
  },
  {
   "cell_type": "markdown",
   "id": "bbc7dade-1a5e-420a-9bae-ac9115fc5749",
   "metadata": {},
   "source": [
    "# Split the data into training and testing sets 80% for training, 20% for testing"
   ]
  },
  {
   "cell_type": "code",
   "execution_count": 68,
   "id": "1a3aa9a8-2c17-4e53-961b-32e6cee8ebb1",
   "metadata": {},
   "outputs": [],
   "source": [
    "X_train, X_test, y_train, y_test = train_test_split(X, y, test_size=0.2, random_state=42)\n"
   ]
  },
  {
   "cell_type": "markdown",
   "id": "568eb6ce-6169-4735-b3c6-aa5f9cd08ad1",
   "metadata": {},
   "source": [
    "# Create a Logistic Regression model and train the model and make predictions\n"
   ]
  },
  {
   "cell_type": "code",
   "execution_count": 73,
   "id": "5387414e-8b79-4736-a64c-e45c7e4745de",
   "metadata": {},
   "outputs": [],
   "source": [
    "model = LogisticRegression()\n",
    "model.fit(X_train, y_train)\n",
    "y_pred = model.predict(X_test)"
   ]
  },
  {
   "cell_type": "markdown",
   "id": "a1aaf1a5-ac3b-49bd-9662-5a805d40829f",
   "metadata": {},
   "source": [
    "# Calculate and print the accuracy of the model\r",
    "\r\n"
   ]
  },
  {
   "cell_type": "code",
   "execution_count": 70,
   "id": "a659bb8b-ed8f-42be-a99d-efb455a728c8",
   "metadata": {},
   "outputs": [
    {
     "name": "stdout",
     "output_type": "stream",
     "text": [
      "Accuracy: 0.76\n"
     ]
    }
   ],
   "source": [
    "accuracy = accuracy_score(y_test, y_pred)\n",
    "print(f\"Accuracy: {accuracy:.2f}\")\n"
   ]
  },
  {
   "cell_type": "markdown",
   "id": "0fbb1271-73c5-4194-bee1-8ce57d348eb5",
   "metadata": {},
   "source": [
    "# Generate and print a classification report, which includes precision, recall, and F1-score"
   ]
  },
  {
   "cell_type": "code",
   "execution_count": 71,
   "id": "41604cc9-02e7-4847-9e94-51bcea57fe64",
   "metadata": {},
   "outputs": [
    {
     "name": "stdout",
     "output_type": "stream",
     "text": [
      "              precision    recall  f1-score   support\n",
      "\n",
      "           0       0.78      0.86      0.82       111\n",
      "           1       0.73      0.60      0.66        67\n",
      "\n",
      "    accuracy                           0.76       178\n",
      "   macro avg       0.75      0.73      0.74       178\n",
      "weighted avg       0.76      0.76      0.76       178\n",
      "\n"
     ]
    }
   ],
   "source": [
    "print(classification_report(y_test, y_pred))"
   ]
  },
  {
   "cell_type": "markdown",
   "id": "e8e051a8-8455-4dcb-a014-2b74d760d260",
   "metadata": {},
   "source": [
    "# Create a heatmap of the confusion matrix to visualize model performance"
   ]
  },
  {
   "cell_type": "code",
   "execution_count": 72,
   "id": "006b44ca-576e-4235-87a6-d356993e4cbd",
   "metadata": {},
   "outputs": [
    {
     "data": {
      "text/plain": [
       "<Axes: >"
      ]
     },
     "execution_count": 72,
     "metadata": {},
     "output_type": "execute_result"
    },
    {
     "data": {
      "image/png": "[encoded data removed]",
      "text/plain": [
       "<Figure size 640x480 with 2 Axes>"
      ]
     },
     "metadata": {},
     "output_type": "display_data"
    }
   ],
   "source": [
    "sns.heatmap(confusion_matrix(y_test, y_pred), annot=True, cmap=\"Greens\")"
   ]
  },
  {
   "cell_type": "code",
   "execution_count": null,
   "id": "6b0a4c24-3675-4de0-a2d4-91914e9e978f",
   "metadata": {},
   "outputs": [],
   "source": []
  }
 ],
 "metadata": {
  "kernelspec": {
   "display_name": "Python 3 (ipykernel)",
   "language": "python",
   "name": "python3"
  },
  "language_info": {
   "codemirror_mode": {
    "name": "ipython",
    "version": 3
   },
   "file_extension": ".py",
   "mimetype": "text/x-python",
   "name": "python",
   "nbconvert_exporter": "python",
   "pygments_lexer": "ipython3",
   "version": "3.11.5"
  }
 },
 "nbformat": 4,
 "nbformat_minor": 5
}
